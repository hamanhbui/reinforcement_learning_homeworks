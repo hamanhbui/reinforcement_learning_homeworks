{
  "cells": [
    {
      "cell_type": "markdown",
      "metadata": {
        "id": "AaatfvORDF1O"
      },
      "source": [
        "<hr/>\n",
        "\n",
        "# EN.520.637 Foundations of Reinforcement Learning\n",
        "\n",
        "<hr/>"
      ]
    },
    {
      "cell_type": "markdown",
      "metadata": {
        "id": "GhCEP6h8DF1S"
      },
      "source": [
        "<h1><font color=\"darkblue\">Lab 3: Infinite Horizon MDPs (40 points)  </font></h1>\n",
        "\n",
        "\n",
        "\n",
        "## Requirements\n",
        "Make sure that the file gridworld.py is in the same directory as your notebook.\n",
        "\n",
        "\n",
        "## Deadline\n",
        "11:59 pm Oct 9th, 2023\n",
        "\n",
        "##  Content\n",
        "In this assignment we will investigate two algorithms for infinite-horizon MDPs. Namely:\n",
        "\n",
        "* Policy Evaluation & Value Iteration (GridWorld)\n",
        "* Policy Iteration (Machine-repair problem of the homework)\n"
      ]
    },
    {
      "cell_type": "code",
      "execution_count": 1,
      "metadata": {
        "id": "aMAMVQWZDF1T"
      },
      "outputs": [],
      "source": [
        "# Imports\n",
        "import numpy as np"
      ]
    },
    {
      "cell_type": "markdown",
      "metadata": {
        "id": "zn5GHQ1YDF1U"
      },
      "source": [
        "## Problem 1. Policy Evaluation & Value Iteration (20 points)\n",
        "\n"
      ]
    },
    {
      "cell_type": "markdown",
      "metadata": {
        "id": "Y8hdK7c9DF1U"
      },
      "source": [
        "### 1.1 The GridWorld\n",
        "\n",
        "\n",
        "**(Simple) Tabular Grid-World**\n",
        "\n",
        "You can visualize the grid worlds we will train our agents on, by running the cells below.\n",
        "`S` indicates the start state and `G` indicates the goal.  \n",
        "\n",
        "At every step, the agent can choose one of the four actions: \"up\",\"right\",\"down\",\"left\", moving to the next tile in that direction. If the agent chooses to move into a wall, he \"bumps\" into it and remains in the same place.\n",
        "\n",
        "Rewards are: `-5` for bumping into a wall, `+10` for reaching the goal, and `0` otherwise.  The episode ends when the agent reaches the goal, and otherwise continues.  \n"
      ]
    },
    {
      "cell_type": "code",
      "execution_count": 2,
      "metadata": {
        "id": "iJ9gdtOEDF1U",
        "outputId": "e717c1c6-93c6-4709-dad9-2d7324a56e14",
        "colab": {
          "base_uri": "https://localhost:8080/",
          "height": 408
        }
      },
      "outputs": [
        {
          "output_type": "display_data",
          "data": {
            "text/plain": [
              "<Figure size 500x500 with 1 Axes>"
            ],
            "image/png": "[encoded data removed]"
          },
          "metadata": {}
        }
      ],
      "source": [
        "from gridworld import GridWorld\n",
        "\n",
        "gw = GridWorld()\n",
        "gw.plot_grid(plot_title='The grid')"
      ]
    },
    {
      "cell_type": "markdown",
      "metadata": {
        "id": "vlnUGGMfDF1V"
      },
      "source": [
        "### Task 1.1.1 Answer the following questions [3 Points]\n",
        "\n",
        "Under a discounted setting $\\gamma<1$:\n",
        "1. Describe what is an optimal policy for this problem\n",
        "2. Is the optimal policy unique? Justify your answer\n",
        "\n",
        "3. How do your answers change for an undiscounted setting $\\gamma=1$?"
      ]
    },
    {
      "cell_type": "markdown",
      "metadata": {
        "id": "vmvXA73KDF1W"
      },
      "source": [
        "**Your answer**\n",
        "1. We can formalize this problem as an Episodic task by Infinite Horizon $T$ with discount rate $\\gamma$. Let $S$ be the state random variable representing the grid position, then the MDP ends when $S_T=G$. By definition, the optimal policy is\n",
        "$$\\pi^*=\\arg\\max_{\\pi\\in \\Pi}\\mathbb{E}_\\pi\\left[\\sum_{k=0}^\\infty \\gamma^{k}R_{k+1}|S_0=s\\right], 0\\leq \\gamma<1.$$\n",
        "Combining with the fact that $R_{k+1}\\in \\{-5,0,10\\}$, where $R_{k+1}=-5$ if bumping into the wall, $R_{k+1}=10$ if $S_T=G$, and $R_{k+1}=0$ otherwise, this yields the optimal policy is the shortest path from $S_0=s$ to $S_T=G$ s.t. there is no bumping into the wall in this path. So, an optimal policy for this problem is\n",
        "$$\\text{(up,right,right,right,down,right,right,right)}.$$\n",
        "\n",
        "2. We can see that there is more than 1 shortest path from $S_0=s$ to $S_T=G$ s.t. there is no bumping into the wall in this path, so the optimal policy is not unique. E.g., another optimal policy for this problem can be\n",
        "$$\\text{(right,up,right,right,down,right,right,right)}.$$\n",
        "\n",
        "3. When $\\gamma=1$, this problem becomes an Episodic task by Infinite Horizon $T$ with an undiscounted rate. So, the $\\gamma$ doesn't weigh the reward at every step, hence, the length of the path doesn't matter anymore. As a result, the optimal policy is not necessarily the shortest path, it can be any path $S_0=s$ to $S_T=G$ s.t. there is no bumping into the wall in this path. E.g.,\n",
        "$$\\text{(left,up,right,right,right,right,down,right,right,right)}.$$"
      ]
    },
    {
      "cell_type": "markdown",
      "metadata": {
        "id": "W8X0WBC6DF1W"
      },
      "source": [
        "### 1.1.2 States and state values\n",
        "Excluding the wall around the grid, there are 56 tiles (INCLUDING obstacles inside the grid), and they correspond to 56 states (obstacles and goal are non-reachable states).\n",
        "\n",
        "We use numbers from 0 to 55 to represent these states (see gridworld.py for the coversion between integer and tile position). The correspondance are as shown below:"
      ]
    },
    {
      "cell_type": "code",
      "execution_count": 3,
      "metadata": {
        "id": "eoAz24pMDF1W",
        "outputId": "c2b029d1-a709-4d50-9d41-75cac1acb31e",
        "colab": {
          "base_uri": "https://localhost:8080/",
          "height": 408
        }
      },
      "outputs": [
        {
          "output_type": "display_data",
          "data": {
            "text/plain": [
              "<Figure size 500x500 with 1 Axes>"
            ],
            "image/png": "[encoded data removed]"
          },
          "metadata": {}
        }
      ],
      "source": [
        "gw.plot_state_values(np.arange(56),value_format=\"{:d}\",plot_title='Each states as an integer')"
      ]
    },
    {
      "cell_type": "markdown",
      "metadata": {
        "id": "C2EPozV8DF1X"
      },
      "source": [
        "### 1.1.3 Taking actions\n",
        "Use `GridWorld.step(action)` to take an action, and use `GridWorld.reset()` to restart an episode.\n",
        "\n",
        "`action` is an integer from 0 to 3, denoting\n",
        "\n",
        "0: \"Up\"; 1: \"Right\"; 2: \"Down\"; 3: \"Left\"\n",
        "\n",
        "\n",
        "The method `Gridworld.step()` returns a tuple `r, done, next_s` where `r` is the stage-reward, `done` is a boolean indicating episode termination and `next_s` is the next state.\n"
      ]
    },
    {
      "cell_type": "code",
      "execution_count": 4,
      "metadata": {
        "id": "Zyn9JMFLDF1X",
        "outputId": "ab5feb85-7b39-4fc3-9f41-11ad7b98f7ef",
        "colab": {
          "base_uri": "https://localhost:8080/"
        }
      },
      "outputs": [
        {
          "output_type": "stream",
          "name": "stdout",
          "text": [
            "The current state is 9, which corresponds to tile position (1, 1)\n",
            "\n",
            "Take action 3, get reward 0.0, move to state 8\n",
            "Now the current state is 8, which corresponds to tile position (1, 0)\n",
            "\n",
            "Reset episode\n",
            "Now the current state is 9, which corresponds to tile position (1, 1)\n"
          ]
        }
      ],
      "source": [
        "# Reset the state to 'S'\n",
        "gw.reset()\n",
        "\n",
        "# Get the current state\n",
        "current_state = gw.get_current_state()\n",
        "tile_pos = gw.int_to_state(current_state)\n",
        "print(\"The current state is {}, which corresponds to tile position {}\\n\".format(current_state,tile_pos))\n",
        "\n",
        "# Take a random action\n",
        "action = np.random.randint(4)\n",
        "reward, terminated, next_state = gw.step(action)\n",
        "tile_pos = gw.int_to_state(next_state)\n",
        "print(\"Take action {}, get reward {}, move to state {}\".format(action,reward,next_state))\n",
        "print(\"Now the current state is {}, which corresponds to tile position {}\\n\".format(next_state,tile_pos))\n",
        "\n",
        "# Reset to state 'S'\n",
        "gw.reset()\n",
        "current_state = gw.get_current_state()\n",
        "tile_pos = gw.int_to_state(current_state)\n",
        "print(\"Reset episode\")\n",
        "print(\"Now the current state is {}, which corresponds to tile position {}\".format(current_state,tile_pos))\n",
        "\n"
      ]
    },
    {
      "cell_type": "markdown",
      "metadata": {
        "id": "b7TtPxkEDF1X"
      },
      "source": [
        "### 1.1.4 Plotting Deterministic Policies\n",
        "A deterministic policy is a function from state to action, which can be represented by a (56,)-numpy array whose entries are all integers in (0-3)"
      ]
    },
    {
      "cell_type": "code",
      "execution_count": 5,
      "metadata": {
        "id": "S0_gzPofDF1X",
        "outputId": "b6b49962-7c82-4971-948e-f9683270ac68",
        "colab": {
          "base_uri": "https://localhost:8080/",
          "height": 408
        }
      },
      "outputs": [
        {
          "output_type": "display_data",
          "data": {
            "text/plain": [
              "<Figure size 500x500 with 1 Axes>"
            ],
            "image/png": "[encoded data removed]"
          },
          "metadata": {}
        }
      ],
      "source": [
        "gw.plot_policy(np.random.randint(4,size=(56,)),plot_title='A deterministic policy')"
      ]
    },
    {
      "cell_type": "markdown",
      "metadata": {
        "id": "y6a7hFmIDF1Y"
      },
      "source": [
        "### 1.2 Policy Evaluation\n",
        "\n",
        "Recall that the value function $v_\\pi(s)$ of a fixed policy $\\pi(s)$ can be iteratively computed via Policy Evaluation (See Sutton&Barto Section 4.1), the iteration is given by $$v_{k+1}(s)=\\sum_{a}\\pi(a|s)\\sum_{s',r}p(s',r|s,a)[r+\\gamma v_{k}(s)]\\,,$$ which can be written as\n",
        "$$\n",
        "    v_{k+1}(s)=\\sum_{a}\\pi(a|s)\\left[\\mathbb{E}_\\pi[r|s,a]+\\gamma\\sum_{s'}p(s'|s,a)v_k(s')\\right]\\,.\n",
        "$$\n",
        "If we write the value function $v_{k+1},v_k$ as vectors, then we have\n",
        "$$\n",
        "    v_{k+1} = \\sum_{a}\\pi(a|s)\\left[R_\\pi(a)+\\gamma P_\\pi(a)v_{k}\\right]\\,.\n",
        "$$\n",
        "where $R_\\pi(a)$ is the expected reward under action $a$ and  $P_\\pi(a)$ is the transition probability matrix under action $a$.\n",
        "\n",
        "With this we can find the value function $v_\\pi$ of random policy $\\pi$ when discount is 0.9, the code is shown below\n",
        "\n"
      ]
    },
    {
      "cell_type": "code",
      "execution_count": 6,
      "metadata": {
        "id": "XI1yOTsmDF1Y",
        "outputId": "70f40cd2-1dab-42c4-c643-bfe660c8f9c2",
        "colab": {
          "base_uri": "https://localhost:8080/",
          "height": 408
        }
      },
      "outputs": [
        {
          "output_type": "display_data",
          "data": {
            "text/plain": [
              "<Figure size 500x500 with 1 Axes>"
            ],
            "image/png": "[encoded data removed]"
          },
          "metadata": {}
        }
      ],
      "source": [
        "pi_a = [0.25,0.25,0.25,0.25] # Uniformly-random policy (takes each action with equal probability, for all states)\n",
        "\n",
        "gamma = 0.9\n",
        "max_it = 1000  # Maximum number of iterations\n",
        "tol = 1e-5  # Tolerance\n",
        "v = np.zeros((56,))\n",
        "\n",
        "for i in range(max_it):\n",
        "    value_temp = np.zeros((56,))\n",
        "    for action in range(4):\n",
        "        reward, tran_prob = gw.transition(action)\n",
        "        value_temp = value_temp + pi_a[action]*(reward+gamma* np.matmul(tran_prob,v))\n",
        "\n",
        "    if np.linalg.norm(value_temp-v)<tol:  # Termination condition\n",
        "        break\n",
        "    else:\n",
        "        v = value_temp\n",
        "\n",
        "\n",
        "gw.plot_state_values(v,value_format=\"{:.1f}\",plot_title='Value function of Random Policy')"
      ]
    },
    {
      "cell_type": "markdown",
      "metadata": {
        "id": "3kufvwCyDF1Y"
      },
      "source": [
        "### Task 1.2.1 [Coding, 7 points]\n",
        "Compute and plot the greedy policy corresponding to the value function above.\n",
        "\n",
        "Hint: First compute the Q values from `v` above."
      ]
    },
    {
      "cell_type": "code",
      "execution_count": 7,
      "metadata": {
        "id": "c3axmwUbDF1Y",
        "colab": {
          "base_uri": "https://localhost:8080/",
          "height": 408
        },
        "outputId": "6fe07558-efe2-4b8e-d28f-e963439a7bd3"
      },
      "outputs": [
        {
          "output_type": "display_data",
          "data": {
            "text/plain": [
              "<Figure size 500x500 with 1 Axes>"
            ],
            "image/png": "[encoded data removed]"
          },
          "metadata": {}
        }
      ],
      "source": [
        "# Answer: Your code here\n",
        "def convert_state2int(row, col):\n",
        "  idx = row * 8 + col\n",
        "  return idx\n",
        "\n",
        "def get_policy_from_v(v_value):\n",
        "  ignore_position = [5, 11, 19, 20, 27, 28]\n",
        "  q_values = np.zeros((56,), dtype=int)\n",
        "\n",
        "  for i in range(56):\n",
        "    tile_pos = gw.int_to_state(i)\n",
        "    opt_pos = -1\n",
        "    max_v = -np.inf\n",
        "    ##Up\n",
        "    if tile_pos[0] - 1 >= 0:\n",
        "      int_pos = convert_state2int(tile_pos[0] - 1, tile_pos[1])\n",
        "      if int_pos == 15:\n",
        "        q_values[i] = 0\n",
        "        continue\n",
        "      elif int_pos not in ignore_position and max_v <= v_value[int_pos]:\n",
        "        max_v = v_value[int_pos]\n",
        "        opt_pos = 0\n",
        "    ##Right\n",
        "    if tile_pos[1] + 1 <= 7:\n",
        "      int_pos = convert_state2int(tile_pos[0], tile_pos[1] + 1)\n",
        "      if int_pos == 15:\n",
        "        q_values[i] = 1\n",
        "        continue\n",
        "      elif int_pos not in ignore_position and max_v <= v_value[int_pos]:\n",
        "        max_v = v_value[int_pos]\n",
        "        opt_pos = 1\n",
        "    ##Down\n",
        "    if tile_pos[0] + 1 <= 6:\n",
        "      int_pos = convert_state2int(tile_pos[0] + 1, tile_pos[1])\n",
        "      if int_pos == 15:\n",
        "        q_values[i] = 2\n",
        "        continue\n",
        "      elif int_pos not in ignore_position and max_v <= v_value[int_pos]:\n",
        "        max_v = v_value[int_pos]\n",
        "        opt_pos = 2\n",
        "    ##Left\n",
        "    if tile_pos[1] - 1 >= 0:\n",
        "      int_pos = convert_state2int(tile_pos[0], tile_pos[1] - 1)\n",
        "      if int_pos == 15:\n",
        "        q_values[i] = 3\n",
        "        continue\n",
        "      elif int_pos not in ignore_position and max_v <= v_value[int_pos]:\n",
        "        max_v = v_value[int_pos]\n",
        "        opt_pos = 3\n",
        "    q_values[i] = opt_pos\n",
        "\n",
        "  return q_values\n",
        "\n",
        "gw.plot_policy(get_policy_from_v(v),plot_title='The greedy policy')\n"
      ]
    },
    {
      "cell_type": "markdown",
      "metadata": {
        "id": "nwaQe3fHDF1Y"
      },
      "source": [
        "## 1.3 Value Iteration\n",
        "\n"
      ]
    },
    {
      "cell_type": "markdown",
      "metadata": {
        "id": "y-I2DSNGDF1Y"
      },
      "source": [
        "### Task 1.3.1 [Coding, 10 points]\n",
        "\n",
        "Implement Value Iteration Algorithm [Sutton&Barto Section 4.4] to find the optimal policy of this gridworld, and plot its value function.\n",
        "\n"
      ]
    },
    {
      "cell_type": "code",
      "execution_count": 8,
      "metadata": {
        "id": "bdiv0-A4DF1Z"
      },
      "outputs": [],
      "source": [
        "from numpy.core.fromnumeric import var\n",
        "# Value Iteration Algorithm\n",
        "\n",
        "def value_iteration(gridworld, gamma):\n",
        "  # input:  gridworld, (GridWorld class) gridworld class describing the environment\n",
        "  #         gamma,     (float 0-1) discount of the return\n",
        "  # output: optim value,  (1d numpy array, float) optimal value function\n",
        "  #         optim_policy, (1d numpy array, int {0,1,2,3}) optimal policy\n",
        "\n",
        "  #write your code here\n",
        "  max_it = 1000  # Maximum number of iterations\n",
        "  tol = 1e-5  # Tolerance\n",
        "  v = np.zeros((56,))\n",
        "  ignore_position = [5, 11, 19, 20, 27, 28]\n",
        "  for i in range(max_it):\n",
        "    delta = 0\n",
        "    for j in range(56):\n",
        "      if j in ignore_position or j == 15:\n",
        "        continue\n",
        "      value_tmp = v[j]\n",
        "      max_tmp = -np.Inf\n",
        "      tile_pos = gw.int_to_state(j)\n",
        "      ##Up\n",
        "      if tile_pos[0] - 1 >= 0:\n",
        "        int_pos = convert_state2int(tile_pos[0] - 1, tile_pos[1])\n",
        "        if int_pos == 15:\n",
        "          v[j] = 10\n",
        "          continue\n",
        "        elif int_pos in ignore_position and max_tmp <= -5:\n",
        "          max_tmp = -5\n",
        "        elif int_pos not in ignore_position and max_tmp <= gamma*v[int_pos]:\n",
        "          max_tmp = gamma*v[int_pos]\n",
        "      else:\n",
        "        max_tmp = -5\n",
        "      ##Right\n",
        "      if tile_pos[1] + 1 <= 7:\n",
        "        int_pos = convert_state2int(tile_pos[0], tile_pos[1] + 1)\n",
        "        if int_pos == 15:\n",
        "          v[j] = 10\n",
        "          continue\n",
        "        elif int_pos in ignore_position and max_tmp <= -5:\n",
        "          max_tmp = -5\n",
        "        elif int_pos not in ignore_position and max_tmp <= gamma*v[int_pos]:\n",
        "          max_tmp = gamma*v[int_pos]\n",
        "      else:\n",
        "        max_tmp = -5\n",
        "      ##Down\n",
        "      if tile_pos[0] + 1 <= 6:\n",
        "        int_pos = convert_state2int(tile_pos[0] + 1, tile_pos[1])\n",
        "        if int_pos == 15:\n",
        "          v[j] = 10\n",
        "          continue\n",
        "        elif int_pos in ignore_position and max_tmp <= -5:\n",
        "          max_tmp = -5\n",
        "        elif int_pos not in ignore_position and max_tmp <= gamma*v[int_pos]:\n",
        "          max_tmp = gamma*v[int_pos]\n",
        "      else:\n",
        "        max_tmp = -5\n",
        "      ##Left\n",
        "      if tile_pos[1] - 1 >= 0:\n",
        "        int_pos = convert_state2int(tile_pos[0], tile_pos[1] - 1)\n",
        "        if int_pos == 15:\n",
        "          v[j] = 10\n",
        "          continue\n",
        "        elif int_pos in ignore_position and max_tmp <= -5:\n",
        "          max_tmp = -5\n",
        "        elif int_pos not in ignore_position and max_tmp <= gamma*v[int_pos]:\n",
        "          max_tmp = gamma*v[int_pos]\n",
        "      else:\n",
        "        max_tmp = -5\n",
        "\n",
        "      #Update by the max value regarding all possible actions at this state\n",
        "      v[j] = max_tmp\n",
        "      delta = max(delta, np.absolute(value_tmp - v[j]))\n",
        "\n",
        "    if delta < tol:\n",
        "      break\n",
        "\n",
        "  optim_value = v\n",
        "  optim_policy = get_policy_from_v(optim_value)\n",
        "\n",
        "  return optim_value, optim_policy"
      ]
    },
    {
      "cell_type": "code",
      "execution_count": 9,
      "metadata": {
        "id": "k32m3ID8DF1Z",
        "outputId": "b23b17f4-a572-4e04-c913-a3e73a01f36a",
        "colab": {
          "base_uri": "https://localhost:8080/",
          "height": 799
        }
      },
      "outputs": [
        {
          "output_type": "display_data",
          "data": {
            "text/plain": [
              "<Figure size 500x500 with 1 Axes>"
            ],
            "image/png": "[encoded data removed]"
          },
          "metadata": {}
        },
        {
          "output_type": "display_data",
          "data": {
            "text/plain": [
              "<Figure size 500x500 with 1 Axes>"
            ],
            "image/png": "[encoded data removed]"
          },
          "metadata": {}
        }
      ],
      "source": [
        "# check your result here\n",
        "optim_value, optim_policy = value_iteration(gw, 0.9)\n",
        "gw.plot_state_values(optim_value,value_format=\"{:.1f}\",plot_title='Value function of Value Iteration')\n",
        "gw.plot_policy(optim_policy,plot_title='Greedy Policy of Value Iteration')"
      ]
    },
    {
      "cell_type": "markdown",
      "metadata": {
        "id": "s718_rfwDF1Z"
      },
      "source": [
        "## Problem 2. Policy Iteration (HW2: P3) [20 points]\n",
        "\n",
        "#### Suppose we have a machine that is either running or is broken down.  If it runs through-out one week, it makes a gross profit of \\\\$120. If it fails during the week, gross profit is zero. If it is running at the start of the week and we perform preventive maintenance,the probability that it will fail during the week is 0.4.  If we do not perform such maintenance, the probability of failure is 0.7. However, maintenance will cost \\\\$20.  When the machine is broken down at the start of the week (it failed during the week before),it may either be repaired at a cost of \\\\$60, in which case it will fail during the week with a probability of 0.4, or it may be replaced at a cost of \\\\$120 by a new machinethat is guaranteed to run through its first week of operation."
      ]
    },
    {
      "cell_type": "markdown",
      "metadata": {
        "id": "8dqwjR_YDF1Z"
      },
      "source": [
        "### Task 2.1 [Coding, 15 points]\n",
        "\n",
        "Implement Policy Iteration Algorithm [Sutton&Barto Section 4.3] to find the optimal policy of this problem respectively for $\\gamma = 0.9$ and $\\gamma = 0.4$"
      ]
    },
    {
      "cell_type": "code",
      "execution_count": 10,
      "metadata": {
        "id": "CixO0410DF1a"
      },
      "outputs": [],
      "source": [
        "# Write auxiliary functions here\n",
        "def policy_eval(v, policy, gamma, max_it, tol):\n",
        "  for i in range(max_it):\n",
        "    delta = 0\n",
        "\n",
        "    value_tmp = v[0]\n",
        "    if policy[0] == 0:\n",
        "      v[0] = 0.4 * (-60 + gamma * v[0]) + 0.6 * (60 + gamma * v[1])\n",
        "    else:\n",
        "      v[0] = 1 * (gamma * v[1])\n",
        "    delta = max(delta, np.absolute(value_tmp-v[0]))\n",
        "\n",
        "    value_tmp = v[1]\n",
        "    if policy[1] == 0:\n",
        "      v[1] = 0.4 * (-20 + gamma * v[0]) + 0.6 * (100 + gamma * v[1])\n",
        "    else:\n",
        "      v[1] = 0.7 * (0 + gamma * v[0]) + 0.3 * (120 + gamma * v[1])\n",
        "    delta = max(delta, np.absolute(value_tmp-v[1]))\n",
        "\n",
        "    if delta < tol:\n",
        "      break\n",
        "\n",
        "  return v\n",
        "\n",
        "def convert_int2string_policy(policy_int):\n",
        "  policy_str = [\"\", \"\"]\n",
        "  if policy_int[0] == 0:\n",
        "    policy_str[0] = \"Repair\"\n",
        "  else:\n",
        "    policy_str[0] = \"Replace\"\n",
        "  if policy_int[1] == 0:\n",
        "    policy_str[1] = \"Maintenance\"\n",
        "  else:\n",
        "    policy_str[1] = \"Not maintenance\"\n",
        "  return policy_str"
      ]
    },
    {
      "cell_type": "code",
      "execution_count": 11,
      "metadata": {
        "id": "X1O8cLPiDF1a"
      },
      "outputs": [],
      "source": [
        "def policy_iter(gamma,max_it,tol):\n",
        "  # input:  gamma,     (float) discount of the return\n",
        "  #         max_it     (int) maximum number of iterations\n",
        "  #         tol        (float) tolerance to be checked\n",
        "  # output:\n",
        "  #         optim_policy, (1d numpy array, int {0,1}) optimal policy\n",
        "\n",
        "  #0: broken, 1: working\n",
        "  policy = np.random.choice([0, 1], size=(2,), p=[0.5, 0.5])\n",
        "  v = np.array([0, 0])\n",
        "  v = policy_eval(v, policy, gamma, max_it, tol)\n",
        "  while True:\n",
        "    policy_stable = True\n",
        "\n",
        "    old_action = policy[0]\n",
        "    #0: repair, 1: replace\n",
        "    tmp_policy = 0\n",
        "    tmp_repair = 0.4 * (-60 + gamma * v[0]) + 0.6 * (60 + gamma * v[1])\n",
        "    tmp_replace = 1 * (gamma * v[1])\n",
        "    if tmp_replace > tmp_repair:\n",
        "      tmp_policy = 1\n",
        "    policy[0] = tmp_policy\n",
        "    if old_action != policy[0]:\n",
        "      policy_stable = False\n",
        "\n",
        "    old_action = policy[1]\n",
        "    #0: maintenance, 1: not maintenance\n",
        "    tmp_policy = 0\n",
        "    tmp_mtn = 0.4 * (-20 + gamma * v[0]) + 0.6 * (100 + gamma * v[1])\n",
        "    tmp_not = 0.7 * (0 + gamma * v[0]) + 0.3 * (120 + gamma * v[1])\n",
        "    if tmp_not > tmp_mtn:\n",
        "      tmp_policy = 1\n",
        "    policy[1] = tmp_policy\n",
        "    if old_action != policy[1]:\n",
        "      policy_stable = False\n",
        "\n",
        "    if policy_stable == True:\n",
        "      break\n",
        "    else:\n",
        "      v = policy_eval(v, policy, gamma, max_it, tol)\n",
        "\n",
        "  return policy"
      ]
    },
    {
      "cell_type": "markdown",
      "metadata": {
        "id": "zcRjMbKWDF1a"
      },
      "source": [
        "### Task 2.2 [Coding, 5 points]\n",
        "\n",
        "Run your policy iteration algorithm and:\n",
        "1. Print the optimal policy for this problem for $\\gamma = 0.9$\n",
        "2. Print the optimal policy for this problem for $\\gamma = 0.4$"
      ]
    },
    {
      "cell_type": "code",
      "source": [
        "optimal_policy_int = policy_iter(0.9, 1000, 1e-5)\n",
        "optimal_policy_str = convert_int2string_policy(optimal_policy_int)\n",
        "print(\"For $\\gamma=0.9$, the optimal policy when the machine is broken is: \" + optimal_policy_str[0])\n",
        "print(\"For $\\gamma=0.9$, the optimal policy when the machine is working is: \" + optimal_policy_str[1])"
      ],
      "metadata": {
        "colab": {
          "base_uri": "https://localhost:8080/"
        },
        "id": "KYN2_Y7quNfN",
        "outputId": "c0f34877-002d-4994-bc7b-132f5cc7e0b5"
      },
      "execution_count": 12,
      "outputs": [
        {
          "output_type": "stream",
          "name": "stdout",
          "text": [
            "For $\\gamma=0.9$, the optimal policy when the machine is broken is: Replace\n",
            "For $\\gamma=0.9$, the optimal policy when the machine is working is: Maintenance\n"
          ]
        }
      ]
    },
    {
      "cell_type": "code",
      "source": [
        "optimal_policy_int = policy_iter(0.4, 1000, 1e-5)\n",
        "optimal_policy_str = convert_int2string_policy(optimal_policy_int)\n",
        "print(\"For $\\gamma=0.4$, the optimal policy when the machine is broken is: \" + optimal_policy_str[0])\n",
        "print(\"For $\\gamma=0.4$, the optimal policy when the machine is working is: \" + optimal_policy_str[1])"
      ],
      "metadata": {
        "colab": {
          "base_uri": "https://localhost:8080/"
        },
        "id": "TV2KToTcB0UQ",
        "outputId": "b6f76146-a4b4-470e-e3ec-3d58ba19577e"
      },
      "execution_count": 13,
      "outputs": [
        {
          "output_type": "stream",
          "name": "stdout",
          "text": [
            "For $\\gamma=0.4$, the optimal policy when the machine is broken is: Repair\n",
            "For $\\gamma=0.4$, the optimal policy when the machine is working is: Maintenance\n"
          ]
        }
      ]
    },
    {
      "cell_type": "code",
      "source": [
        "!apt-get install texlive-xetex\n",
        "!pip install nbconvert\n",
        "!jupyter nbconvert --to pdf --output /content/problem3.pdf problem3.ipynb"
      ],
      "metadata": {
        "colab": {
          "base_uri": "https://localhost:8080/"
        },
        "id": "DYd-RRkjdkIT",
        "outputId": "940d1e1e-5566-4e72-e9f1-453c804cc050"
      },
      "execution_count": 15,
      "outputs": [
        {
          "output_type": "stream",
          "name": "stdout",
          "text": [
            "Reading package lists... Done\n",
            "Building dependency tree... Done\n",
            "Reading state information... Done\n",
            "The following additional packages will be installed:\n",
            "  dvisvgm fonts-droid-fallback fonts-lato fonts-lmodern fonts-noto-mono\n",
            "  fonts-texgyre fonts-urw-base35 libapache-pom-java libcommons-logging-java\n",
            "  libcommons-parent-java libfontbox-java libfontenc1 libgs9 libgs9-common\n",
            "  libidn12 libijs-0.35 libjbig2dec0 libkpathsea6 libpdfbox-java libptexenc1\n",
            "  libruby3.0 libsynctex2 libteckit0 libtexlua53 libtexluajit2 libwoff1\n",
            "  libzzip-0-13 lmodern poppler-data preview-latex-style rake ruby\n",
            "  ruby-net-telnet ruby-rubygems ruby-webrick ruby-xmlrpc ruby3.0\n",
            "  rubygems-integration t1utils teckit tex-common tex-gyre texlive-base\n",
            "  texlive-binaries texlive-fonts-recommended texlive-latex-base\n",
            "  texlive-latex-extra texlive-latex-recommended texlive-pictures\n",
            "  texlive-plain-generic tipa xfonts-encodings xfonts-utils\n",
            "Suggested packages:\n",
            "  fonts-noto fonts-freefont-otf | fonts-freefont-ttf libavalon-framework-java\n",
            "  libcommons-logging-java-doc libexcalibur-logkit-java liblog4j1.2-java\n",
            "  poppler-utils ghostscript fonts-japanese-mincho | fonts-ipafont-mincho\n",
            "  fonts-japanese-gothic | fonts-ipafont-gothic fonts-arphic-ukai\n",
            "  fonts-arphic-uming fonts-nanum ri ruby-dev bundler debhelper gv\n",
            "  | postscript-viewer perl-tk xpdf | pdf-viewer xzdec\n",
            "  texlive-fonts-recommended-doc texlive-latex-base-doc python3-pygments\n",
            "  icc-profiles libfile-which-perl libspreadsheet-parseexcel-perl\n",
            "  texlive-latex-extra-doc texlive-latex-recommended-doc texlive-luatex\n",
            "  texlive-pstricks dot2tex prerex texlive-pictures-doc vprerex\n",
            "  default-jre-headless tipa-doc\n",
            "The following NEW packages will be installed:\n",
            "  dvisvgm fonts-droid-fallback fonts-lato fonts-lmodern fonts-noto-mono\n",
            "  fonts-texgyre fonts-urw-base35 libapache-pom-java libcommons-logging-java\n",
            "  libcommons-parent-java libfontbox-java libfontenc1 libgs9 libgs9-common\n",
            "  libidn12 libijs-0.35 libjbig2dec0 libkpathsea6 libpdfbox-java libptexenc1\n",
            "  libruby3.0 libsynctex2 libteckit0 libtexlua53 libtexluajit2 libwoff1\n",
            "  libzzip-0-13 lmodern poppler-data preview-latex-style rake ruby\n",
            "  ruby-net-telnet ruby-rubygems ruby-webrick ruby-xmlrpc ruby3.0\n",
            "  rubygems-integration t1utils teckit tex-common tex-gyre texlive-base\n",
            "  texlive-binaries texlive-fonts-recommended texlive-latex-base\n",
            "  texlive-latex-extra texlive-latex-recommended texlive-pictures\n",
            "  texlive-plain-generic texlive-xetex tipa xfonts-encodings xfonts-utils\n",
            "0 upgraded, 54 newly installed, 0 to remove and 18 not upgraded.\n",
            "Need to get 182 MB of archives.\n",
            "After this operation, 571 MB of additional disk space will be used.\n",
            "Get:1 http://archive.ubuntu.com/ubuntu jammy/main amd64 fonts-droid-fallback all 1:6.0.1r16-1.1build1 [1,805 kB]\n",
            "Get:2 http://archive.ubuntu.com/ubuntu jammy/main amd64 fonts-lato all 2.0-2.1 [2,696 kB]\n",
            "Get:3 http://archive.ubuntu.com/ubuntu jammy/main amd64 poppler-data all 0.4.11-1 [2,171 kB]\n",
            "Get:4 http://archive.ubuntu.com/ubuntu jammy/universe amd64 tex-common all 6.17 [33.7 kB]\n",
            "Get:5 http://archive.ubuntu.com/ubuntu jammy/main amd64 fonts-urw-base35 all 20200910-1 [6,367 kB]\n",
            "Get:6 http://archive.ubuntu.com/ubuntu jammy-updates/main amd64 libgs9-common all 9.55.0~dfsg1-0ubuntu5.4 [752 kB]\n",
            "Get:7 http://archive.ubuntu.com/ubuntu jammy-updates/main amd64 libidn12 amd64 1.38-4ubuntu1 [60.0 kB]\n",
            "Get:8 http://archive.ubuntu.com/ubuntu jammy/main amd64 libijs-0.35 amd64 0.35-15build2 [16.5 kB]\n",
            "Get:9 http://archive.ubuntu.com/ubuntu jammy/main amd64 libjbig2dec0 amd64 0.19-3build2 [64.7 kB]\n",
            "Get:10 http://archive.ubuntu.com/ubuntu jammy-updates/main amd64 libgs9 amd64 9.55.0~dfsg1-0ubuntu5.4 [5,032 kB]\n",
            "Get:11 http://archive.ubuntu.com/ubuntu jammy-updates/main amd64 libkpathsea6 amd64 2021.20210626.59705-1ubuntu0.1 [60.3 kB]\n",
            "Get:12 http://archive.ubuntu.com/ubuntu jammy/main amd64 libwoff1 amd64 1.0.2-1build4 [45.2 kB]\n",
            "Get:13 http://archive.ubuntu.com/ubuntu jammy/universe amd64 dvisvgm amd64 2.13.1-1 [1,221 kB]\n",
            "Get:14 http://archive.ubuntu.com/ubuntu jammy/universe amd64 fonts-lmodern all 2.004.5-6.1 [4,532 kB]\n",
            "Get:15 http://archive.ubuntu.com/ubuntu jammy/main amd64 fonts-noto-mono all 20201225-1build1 [397 kB]\n",
            "Get:16 http://archive.ubuntu.com/ubuntu jammy/universe amd64 fonts-texgyre all 20180621-3.1 [10.2 MB]\n",
            "Get:17 http://archive.ubuntu.com/ubuntu jammy/universe amd64 libapache-pom-java all 18-1 [4,720 B]\n",
            "Get:18 http://archive.ubuntu.com/ubuntu jammy/universe amd64 libcommons-parent-java all 43-1 [10.8 kB]\n",
            "Get:19 http://archive.ubuntu.com/ubuntu jammy/universe amd64 libcommons-logging-java all 1.2-2 [60.3 kB]\n",
            "Get:20 http://archive.ubuntu.com/ubuntu jammy/main amd64 libfontenc1 amd64 1:1.1.4-1build3 [14.7 kB]\n",
            "Get:21 http://archive.ubuntu.com/ubuntu jammy-updates/main amd64 libptexenc1 amd64 2021.20210626.59705-1ubuntu0.1 [39.1 kB]\n",
            "Get:22 http://archive.ubuntu.com/ubuntu jammy/main amd64 rubygems-integration all 1.18 [5,336 B]\n",
            "Get:23 http://archive.ubuntu.com/ubuntu jammy-updates/main amd64 ruby3.0 amd64 3.0.2-7ubuntu2.4 [50.1 kB]\n",
            "Get:24 http://archive.ubuntu.com/ubuntu jammy/main amd64 ruby-rubygems all 3.3.5-2 [228 kB]\n",
            "Get:25 http://archive.ubuntu.com/ubuntu jammy/main amd64 ruby amd64 1:3.0~exp1 [5,100 B]\n",
            "Get:26 http://archive.ubuntu.com/ubuntu jammy/main amd64 rake all 13.0.6-2 [61.7 kB]\n",
            "Get:27 http://archive.ubuntu.com/ubuntu jammy/main amd64 ruby-net-telnet all 0.1.1-2 [12.6 kB]\n",
            "Get:28 http://archive.ubuntu.com/ubuntu jammy/universe amd64 ruby-webrick all 1.7.0-3 [51.8 kB]\n",
            "Get:29 http://archive.ubuntu.com/ubuntu jammy-updates/main amd64 ruby-xmlrpc all 0.3.2-1ubuntu0.1 [24.9 kB]\n",
            "Get:30 http://archive.ubuntu.com/ubuntu jammy-updates/main amd64 libruby3.0 amd64 3.0.2-7ubuntu2.4 [5,113 kB]\n",
            "Get:31 http://archive.ubuntu.com/ubuntu jammy-updates/main amd64 libsynctex2 amd64 2021.20210626.59705-1ubuntu0.1 [55.5 kB]\n",
            "Get:32 http://archive.ubuntu.com/ubuntu jammy/universe amd64 libteckit0 amd64 2.5.11+ds1-1 [421 kB]\n",
            "Get:33 http://archive.ubuntu.com/ubuntu jammy-updates/main amd64 libtexlua53 amd64 2021.20210626.59705-1ubuntu0.1 [120 kB]\n",
            "Get:34 http://archive.ubuntu.com/ubuntu jammy-updates/main amd64 libtexluajit2 amd64 2021.20210626.59705-1ubuntu0.1 [267 kB]\n",
            "Get:35 http://archive.ubuntu.com/ubuntu jammy/universe amd64 libzzip-0-13 amd64 0.13.72+dfsg.1-1.1 [27.0 kB]\n",
            "Get:36 http://archive.ubuntu.com/ubuntu jammy/main amd64 xfonts-encodings all 1:1.0.5-0ubuntu2 [578 kB]\n",
            "Get:37 http://archive.ubuntu.com/ubuntu jammy/main amd64 xfonts-utils amd64 1:7.7+6build2 [94.6 kB]\n",
            "Get:38 http://archive.ubuntu.com/ubuntu jammy/universe amd64 lmodern all 2.004.5-6.1 [9,471 kB]\n",
            "Get:39 http://archive.ubuntu.com/ubuntu jammy/universe amd64 preview-latex-style all 12.2-1ubuntu1 [185 kB]\n",
            "Get:40 http://archive.ubuntu.com/ubuntu jammy/main amd64 t1utils amd64 1.41-4build2 [61.3 kB]\n",
            "Get:41 http://archive.ubuntu.com/ubuntu jammy/universe amd64 teckit amd64 2.5.11+ds1-1 [699 kB]\n",
            "Get:42 http://archive.ubuntu.com/ubuntu jammy/universe amd64 tex-gyre all 20180621-3.1 [6,209 kB]\n",
            "Get:43 http://archive.ubuntu.com/ubuntu jammy-updates/universe amd64 texlive-binaries amd64 2021.20210626.59705-1ubuntu0.1 [9,848 kB]\n",
            "Get:44 http://archive.ubuntu.com/ubuntu jammy/universe amd64 texlive-base all 2021.20220204-1 [21.0 MB]\n",
            "Get:45 http://archive.ubuntu.com/ubuntu jammy/universe amd64 texlive-fonts-recommended all 2021.20220204-1 [4,972 kB]\n",
            "Get:46 http://archive.ubuntu.com/ubuntu jammy/universe amd64 texlive-latex-base all 2021.20220204-1 [1,128 kB]\n",
            "Get:47 http://archive.ubuntu.com/ubuntu jammy/universe amd64 libfontbox-java all 1:1.8.16-2 [207 kB]\n",
            "Get:48 http://archive.ubuntu.com/ubuntu jammy/universe amd64 libpdfbox-java all 1:1.8.16-2 [5,199 kB]\n",
            "Get:49 http://archive.ubuntu.com/ubuntu jammy/universe amd64 texlive-latex-recommended all 2021.20220204-1 [14.4 MB]\n",
            "Get:50 http://archive.ubuntu.com/ubuntu jammy/universe amd64 texlive-pictures all 2021.20220204-1 [8,720 kB]\n",
            "Get:51 http://archive.ubuntu.com/ubuntu jammy/universe amd64 texlive-latex-extra all 2021.20220204-1 [13.9 MB]\n",
            "Get:52 http://archive.ubuntu.com/ubuntu jammy/universe amd64 texlive-plain-generic all 2021.20220204-1 [27.5 MB]\n",
            "Get:53 http://archive.ubuntu.com/ubuntu jammy/universe amd64 tipa all 2:1.3-21 [2,967 kB]\n",
            "Get:54 http://archive.ubuntu.com/ubuntu jammy/universe amd64 texlive-xetex all 2021.20220204-1 [12.4 MB]\n",
            "Fetched 182 MB in 3s (64.3 MB/s)\n",
            "Extracting templates from packages: 100%\n",
            "Preconfiguring packages ...\n",
            "Selecting previously unselected package fonts-droid-fallback.\n",
            "(Reading database ... 120875 files and directories currently installed.)\n",
            "Preparing to unpack .../00-fonts-droid-fallback_1%3a6.0.1r16-1.1build1_all.deb ...\n",
            "Unpacking fonts-droid-fallback (1:6.0.1r16-1.1build1) ...\n",
            "Selecting previously unselected package fonts-lato.\n",
            "Preparing to unpack .../01-fonts-lato_2.0-2.1_all.deb ...\n",
            "Unpacking fonts-lato (2.0-2.1) ...\n",
            "Selecting previously unselected package poppler-data.\n",
            "Preparing to unpack .../02-poppler-data_0.4.11-1_all.deb ...\n",
            "Unpacking poppler-data (0.4.11-1) ...\n",
            "Selecting previously unselected package tex-common.\n",
            "Preparing to unpack .../03-tex-common_6.17_all.deb ...\n",
            "Unpacking tex-common (6.17) ...\n",
            "Selecting previously unselected package fonts-urw-base35.\n",
            "Preparing to unpack .../04-fonts-urw-base35_20200910-1_all.deb ...\n",
            "Unpacking fonts-urw-base35 (20200910-1) ...\n",
            "Selecting previously unselected package libgs9-common.\n",
            "Preparing to unpack .../05-libgs9-common_9.55.0~dfsg1-0ubuntu5.4_all.deb ...\n",
            "Unpacking libgs9-common (9.55.0~dfsg1-0ubuntu5.4) ...\n",
            "Selecting previously unselected package libidn12:amd64.\n",
            "Preparing to unpack .../06-libidn12_1.38-4ubuntu1_amd64.deb ...\n",
            "Unpacking libidn12:amd64 (1.38-4ubuntu1) ...\n",
            "Selecting previously unselected package libijs-0.35:amd64.\n",
            "Preparing to unpack .../07-libijs-0.35_0.35-15build2_amd64.deb ...\n",
            "Unpacking libijs-0.35:amd64 (0.35-15build2) ...\n",
            "Selecting previously unselected package libjbig2dec0:amd64.\n",
            "Preparing to unpack .../08-libjbig2dec0_0.19-3build2_amd64.deb ...\n",
            "Unpacking libjbig2dec0:amd64 (0.19-3build2) ...\n",
            "Selecting previously unselected package libgs9:amd64.\n",
            "Preparing to unpack .../09-libgs9_9.55.0~dfsg1-0ubuntu5.4_amd64.deb ...\n",
            "Unpacking libgs9:amd64 (9.55.0~dfsg1-0ubuntu5.4) ...\n",
            "Selecting previously unselected package libkpathsea6:amd64.\n",
            "Preparing to unpack .../10-libkpathsea6_2021.20210626.59705-1ubuntu0.1_amd64.deb ...\n",
            "Unpacking libkpathsea6:amd64 (2021.20210626.59705-1ubuntu0.1) ...\n",
            "Selecting previously unselected package libwoff1:amd64.\n",
            "Preparing to unpack .../11-libwoff1_1.0.2-1build4_amd64.deb ...\n",
            "Unpacking libwoff1:amd64 (1.0.2-1build4) ...\n",
            "Selecting previously unselected package dvisvgm.\n",
            "Preparing to unpack .../12-dvisvgm_2.13.1-1_amd64.deb ...\n",
            "Unpacking dvisvgm (2.13.1-1) ...\n",
            "Selecting previously unselected package fonts-lmodern.\n",
            "Preparing to unpack .../13-fonts-lmodern_2.004.5-6.1_all.deb ...\n",
            "Unpacking fonts-lmodern (2.004.5-6.1) ...\n",
            "Selecting previously unselected package fonts-noto-mono.\n",
            "Preparing to unpack .../14-fonts-noto-mono_20201225-1build1_all.deb ...\n",
            "Unpacking fonts-noto-mono (20201225-1build1) ...\n",
            "Selecting previously unselected package fonts-texgyre.\n",
            "Preparing to unpack .../15-fonts-texgyre_20180621-3.1_all.deb ...\n",
            "Unpacking fonts-texgyre (20180621-3.1) ...\n",
            "Selecting previously unselected package libapache-pom-java.\n",
            "Preparing to unpack .../16-libapache-pom-java_18-1_all.deb ...\n",
            "Unpacking libapache-pom-java (18-1) ...\n",
            "Selecting previously unselected package libcommons-parent-java.\n",
            "Preparing to unpack .../17-libcommons-parent-java_43-1_all.deb ...\n",
            "Unpacking libcommons-parent-java (43-1) ...\n",
            "Selecting previously unselected package libcommons-logging-java.\n",
            "Preparing to unpack .../18-libcommons-logging-java_1.2-2_all.deb ...\n",
            "Unpacking libcommons-logging-java (1.2-2) ...\n",
            "Selecting previously unselected package libfontenc1:amd64.\n",
            "Preparing to unpack .../19-libfontenc1_1%3a1.1.4-1build3_amd64.deb ...\n",
            "Unpacking libfontenc1:amd64 (1:1.1.4-1build3) ...\n",
            "Selecting previously unselected package libptexenc1:amd64.\n",
            "Preparing to unpack .../20-libptexenc1_2021.20210626.59705-1ubuntu0.1_amd64.deb ...\n",
            "Unpacking libptexenc1:amd64 (2021.20210626.59705-1ubuntu0.1) ...\n",
            "Selecting previously unselected package rubygems-integration.\n",
            "Preparing to unpack .../21-rubygems-integration_1.18_all.deb ...\n",
            "Unpacking rubygems-integration (1.18) ...\n",
            "Selecting previously unselected package ruby3.0.\n",
            "Preparing to unpack .../22-ruby3.0_3.0.2-7ubuntu2.4_amd64.deb ...\n",
            "Unpacking ruby3.0 (3.0.2-7ubuntu2.4) ...\n",
            "Selecting previously unselected package ruby-rubygems.\n",
            "Preparing to unpack .../23-ruby-rubygems_3.3.5-2_all.deb ...\n",
            "Unpacking ruby-rubygems (3.3.5-2) ...\n",
            "Selecting previously unselected package ruby.\n",
            "Preparing to unpack .../24-ruby_1%3a3.0~exp1_amd64.deb ...\n",
            "Unpacking ruby (1:3.0~exp1) ...\n",
            "Selecting previously unselected package rake.\n",
            "Preparing to unpack .../25-rake_13.0.6-2_all.deb ...\n",
            "Unpacking rake (13.0.6-2) ...\n",
            "Selecting previously unselected package ruby-net-telnet.\n",
            "Preparing to unpack .../26-ruby-net-telnet_0.1.1-2_all.deb ...\n",
            "Unpacking ruby-net-telnet (0.1.1-2) ...\n",
            "Selecting previously unselected package ruby-webrick.\n",
            "Preparing to unpack .../27-ruby-webrick_1.7.0-3_all.deb ...\n",
            "Unpacking ruby-webrick (1.7.0-3) ...\n",
            "Selecting previously unselected package ruby-xmlrpc.\n",
            "Preparing to unpack .../28-ruby-xmlrpc_0.3.2-1ubuntu0.1_all.deb ...\n",
            "Unpacking ruby-xmlrpc (0.3.2-1ubuntu0.1) ...\n",
            "Selecting previously unselected package libruby3.0:amd64.\n",
            "Preparing to unpack .../29-libruby3.0_3.0.2-7ubuntu2.4_amd64.deb ...\n",
            "Unpacking libruby3.0:amd64 (3.0.2-7ubuntu2.4) ...\n",
            "Selecting previously unselected package libsynctex2:amd64.\n",
            "Preparing to unpack .../30-libsynctex2_2021.20210626.59705-1ubuntu0.1_amd64.deb ...\n",
            "Unpacking libsynctex2:amd64 (2021.20210626.59705-1ubuntu0.1) ...\n",
            "Selecting previously unselected package libteckit0:amd64.\n",
            "Preparing to unpack .../31-libteckit0_2.5.11+ds1-1_amd64.deb ...\n",
            "Unpacking libteckit0:amd64 (2.5.11+ds1-1) ...\n",
            "Selecting previously unselected package libtexlua53:amd64.\n",
            "Preparing to unpack .../32-libtexlua53_2021.20210626.59705-1ubuntu0.1_amd64.deb ...\n",
            "Unpacking libtexlua53:amd64 (2021.20210626.59705-1ubuntu0.1) ...\n",
            "Selecting previously unselected package libtexluajit2:amd64.\n",
            "Preparing to unpack .../33-libtexluajit2_2021.20210626.59705-1ubuntu0.1_amd64.deb ...\n",
            "Unpacking libtexluajit2:amd64 (2021.20210626.59705-1ubuntu0.1) ...\n",
            "Selecting previously unselected package libzzip-0-13:amd64.\n",
            "Preparing to unpack .../34-libzzip-0-13_0.13.72+dfsg.1-1.1_amd64.deb ...\n",
            "Unpacking libzzip-0-13:amd64 (0.13.72+dfsg.1-1.1) ...\n",
            "Selecting previously unselected package xfonts-encodings.\n",
            "Preparing to unpack .../35-xfonts-encodings_1%3a1.0.5-0ubuntu2_all.deb ...\n",
            "Unpacking xfonts-encodings (1:1.0.5-0ubuntu2) ...\n",
            "Selecting previously unselected package xfonts-utils.\n",
            "Preparing to unpack .../36-xfonts-utils_1%3a7.7+6build2_amd64.deb ...\n",
            "Unpacking xfonts-utils (1:7.7+6build2) ...\n",
            "Selecting previously unselected package lmodern.\n",
            "Preparing to unpack .../37-lmodern_2.004.5-6.1_all.deb ...\n",
            "Unpacking lmodern (2.004.5-6.1) ...\n",
            "Selecting previously unselected package preview-latex-style.\n",
            "Preparing to unpack .../38-preview-latex-style_12.2-1ubuntu1_all.deb ...\n",
            "Unpacking preview-latex-style (12.2-1ubuntu1) ...\n",
            "Selecting previously unselected package t1utils.\n",
            "Preparing to unpack .../39-t1utils_1.41-4build2_amd64.deb ...\n",
            "Unpacking t1utils (1.41-4build2) ...\n",
            "Selecting previously unselected package teckit.\n",
            "Preparing to unpack .../40-teckit_2.5.11+ds1-1_amd64.deb ...\n",
            "Unpacking teckit (2.5.11+ds1-1) ...\n",
            "Selecting previously unselected package tex-gyre.\n",
            "Preparing to unpack .../41-tex-gyre_20180621-3.1_all.deb ...\n",
            "Unpacking tex-gyre (20180621-3.1) ...\n",
            "Selecting previously unselected package texlive-binaries.\n",
            "Preparing to unpack .../42-texlive-binaries_2021.20210626.59705-1ubuntu0.1_amd64.deb ...\n",
            "Unpacking texlive-binaries (2021.20210626.59705-1ubuntu0.1) ...\n",
            "Selecting previously unselected package texlive-base.\n",
            "Preparing to unpack .../43-texlive-base_2021.20220204-1_all.deb ...\n",
            "Unpacking texlive-base (2021.20220204-1) ...\n",
            "Selecting previously unselected package texlive-fonts-recommended.\n",
            "Preparing to unpack .../44-texlive-fonts-recommended_2021.20220204-1_all.deb ...\n",
            "Unpacking texlive-fonts-recommended (2021.20220204-1) ...\n",
            "Selecting previously unselected package texlive-latex-base.\n",
            "Preparing to unpack .../45-texlive-latex-base_2021.20220204-1_all.deb ...\n",
            "Unpacking texlive-latex-base (2021.20220204-1) ...\n",
            "Selecting previously unselected package libfontbox-java.\n",
            "Preparing to unpack .../46-libfontbox-java_1%3a1.8.16-2_all.deb ...\n",
            "Unpacking libfontbox-java (1:1.8.16-2) ...\n",
            "Selecting previously unselected package libpdfbox-java.\n",
            "Preparing to unpack .../47-libpdfbox-java_1%3a1.8.16-2_all.deb ...\n",
            "Unpacking libpdfbox-java (1:1.8.16-2) ...\n",
            "Selecting previously unselected package texlive-latex-recommended.\n",
            "Preparing to unpack .../48-texlive-latex-recommended_2021.20220204-1_all.deb ...\n",
            "Unpacking texlive-latex-recommended (2021.20220204-1) ...\n",
            "Selecting previously unselected package texlive-pictures.\n",
            "Preparing to unpack .../49-texlive-pictures_2021.20220204-1_all.deb ...\n",
            "Unpacking texlive-pictures (2021.20220204-1) ...\n",
            "Selecting previously unselected package texlive-latex-extra.\n",
            "Preparing to unpack .../50-texlive-latex-extra_2021.20220204-1_all.deb ...\n",
            "Unpacking texlive-latex-extra (2021.20220204-1) ...\n",
            "Selecting previously unselected package texlive-plain-generic.\n",
            "Preparing to unpack .../51-texlive-plain-generic_2021.20220204-1_all.deb ...\n",
            "Unpacking texlive-plain-generic (2021.20220204-1) ...\n",
            "Selecting previously unselected package tipa.\n",
            "Preparing to unpack .../52-tipa_2%3a1.3-21_all.deb ...\n",
            "Unpacking tipa (2:1.3-21) ...\n",
            "Selecting previously unselected package texlive-xetex.\n",
            "Preparing to unpack .../53-texlive-xetex_2021.20220204-1_all.deb ...\n",
            "Unpacking texlive-xetex (2021.20220204-1) ...\n",
            "Setting up fonts-lato (2.0-2.1) ...\n",
            "Setting up fonts-noto-mono (20201225-1build1) ...\n",
            "Setting up libwoff1:amd64 (1.0.2-1build4) ...\n",
            "Setting up libtexlua53:amd64 (2021.20210626.59705-1ubuntu0.1) ...\n",
            "Setting up libijs-0.35:amd64 (0.35-15build2) ...\n",
            "Setting up libtexluajit2:amd64 (2021.20210626.59705-1ubuntu0.1) ...\n",
            "Setting up libfontbox-java (1:1.8.16-2) ...\n",
            "Setting up rubygems-integration (1.18) ...\n",
            "Setting up libzzip-0-13:amd64 (0.13.72+dfsg.1-1.1) ...\n",
            "Setting up fonts-urw-base35 (20200910-1) ...\n",
            "Setting up poppler-data (0.4.11-1) ...\n",
            "Setting up tex-common (6.17) ...\n",
            "update-language: texlive-base not installed and configured, doing nothing!\n",
            "Setting up libfontenc1:amd64 (1:1.1.4-1build3) ...\n",
            "Setting up libjbig2dec0:amd64 (0.19-3build2) ...\n",
            "Setting up libteckit0:amd64 (2.5.11+ds1-1) ...\n",
            "Setting up libapache-pom-java (18-1) ...\n",
            "Setting up ruby-net-telnet (0.1.1-2) ...\n",
            "Setting up xfonts-encodings (1:1.0.5-0ubuntu2) ...\n",
            "Setting up t1utils (1.41-4build2) ...\n",
            "Setting up libidn12:amd64 (1.38-4ubuntu1) ...\n",
            "Setting up fonts-texgyre (20180621-3.1) ...\n",
            "Setting up libkpathsea6:amd64 (2021.20210626.59705-1ubuntu0.1) ...\n",
            "Setting up ruby-webrick (1.7.0-3) ...\n",
            "Setting up fonts-lmodern (2.004.5-6.1) ...\n",
            "Setting up fonts-droid-fallback (1:6.0.1r16-1.1build1) ...\n",
            "Setting up ruby-xmlrpc (0.3.2-1ubuntu0.1) ...\n",
            "Setting up libsynctex2:amd64 (2021.20210626.59705-1ubuntu0.1) ...\n",
            "Setting up libgs9-common (9.55.0~dfsg1-0ubuntu5.4) ...\n",
            "Setting up teckit (2.5.11+ds1-1) ...\n",
            "Setting up libpdfbox-java (1:1.8.16-2) ...\n",
            "Setting up libgs9:amd64 (9.55.0~dfsg1-0ubuntu5.4) ...\n",
            "Setting up preview-latex-style (12.2-1ubuntu1) ...\n",
            "Setting up libcommons-parent-java (43-1) ...\n",
            "Setting up dvisvgm (2.13.1-1) ...\n",
            "Setting up libcommons-logging-java (1.2-2) ...\n",
            "Setting up xfonts-utils (1:7.7+6build2) ...\n",
            "Setting up libptexenc1:amd64 (2021.20210626.59705-1ubuntu0.1) ...\n",
            "Setting up texlive-binaries (2021.20210626.59705-1ubuntu0.1) ...\n",
            "update-alternatives: using /usr/bin/xdvi-xaw to provide /usr/bin/xdvi.bin (xdvi.bin) in auto mode\n",
            "update-alternatives: using /usr/bin/bibtex.original to provide /usr/bin/bibtex (bibtex) in auto mode\n",
            "Setting up lmodern (2.004.5-6.1) ...\n",
            "Setting up texlive-base (2021.20220204-1) ...\n",
            "/usr/bin/ucfr\n",
            "/usr/bin/ucfr\n",
            "/usr/bin/ucfr\n",
            "/usr/bin/ucfr\n",
            "mktexlsr: Updating /var/lib/texmf/ls-R-TEXLIVEDIST... \n",
            "mktexlsr: Updating /var/lib/texmf/ls-R-TEXMFMAIN... \n",
            "mktexlsr: Updating /var/lib/texmf/ls-R... \n",
            "mktexlsr: Done.\n",
            "tl-paper: setting paper size for dvips to a4: /var/lib/texmf/dvips/config/config-paper.ps\n",
            "tl-paper: setting paper size for dvipdfmx to a4: /var/lib/texmf/dvipdfmx/dvipdfmx-paper.cfg\n",
            "tl-paper: setting paper size for xdvi to a4: /var/lib/texmf/xdvi/XDvi-paper\n",
            "tl-paper: setting paper size for pdftex to a4: /var/lib/texmf/tex/generic/tex-ini-files/pdftexconfig.tex\n",
            "Setting up tex-gyre (20180621-3.1) ...\n",
            "Setting up texlive-plain-generic (2021.20220204-1) ...\n",
            "Setting up texlive-latex-base (2021.20220204-1) ...\n",
            "Setting up texlive-latex-recommended (2021.20220204-1) ...\n",
            "Setting up texlive-pictures (2021.20220204-1) ...\n",
            "Setting up texlive-fonts-recommended (2021.20220204-1) ...\n",
            "Setting up tipa (2:1.3-21) ...\n",
            "Setting up texlive-latex-extra (2021.20220204-1) ...\n",
            "Setting up texlive-xetex (2021.20220204-1) ...\n",
            "Setting up rake (13.0.6-2) ...\n",
            "Setting up libruby3.0:amd64 (3.0.2-7ubuntu2.4) ...\n",
            "Setting up ruby3.0 (3.0.2-7ubuntu2.4) ...\n",
            "Setting up ruby (1:3.0~exp1) ...\n",
            "Setting up ruby-rubygems (3.3.5-2) ...\n",
            "Processing triggers for man-db (2.10.2-1) ...\n",
            "Processing triggers for fontconfig (2.13.1-4.2ubuntu5) ...\n",
            "Processing triggers for libc-bin (2.35-0ubuntu3.1) ...\n",
            "/sbin/ldconfig.real: /usr/local/lib/libtbbmalloc.so.2 is not a symbolic link\n",
            "\n",
            "/sbin/ldconfig.real: /usr/local/lib/libtbbmalloc_proxy.so.2 is not a symbolic link\n",
            "\n",
            "/sbin/ldconfig.real: /usr/local/lib/libtbbbind_2_0.so.3 is not a symbolic link\n",
            "\n",
            "/sbin/ldconfig.real: /usr/local/lib/libtbbbind_2_5.so.3 is not a symbolic link\n",
            "\n",
            "/sbin/ldconfig.real: /usr/local/lib/libtbbbind.so.3 is not a symbolic link\n",
            "\n",
            "/sbin/ldconfig.real: /usr/local/lib/libtbb.so.12 is not a symbolic link\n",
            "\n",
            "Processing triggers for tex-common (6.17) ...\n",
            "Running updmap-sys. This may take some time... done.\n",
            "Running mktexlsr /var/lib/texmf ... done.\n",
            "Building format(s) --all.\n",
            "\tThis may take some time... done.\n",
            "Requirement already satisfied: nbconvert in /usr/local/lib/python3.10/dist-packages (6.5.4)\n",
            "Requirement already satisfied: lxml in /usr/local/lib/python3.10/dist-packages (from nbconvert) (4.9.3)\n",
            "Requirement already satisfied: beautifulsoup4 in /usr/local/lib/python3.10/dist-packages (from nbconvert) (4.11.2)\n",
            "Requirement already satisfied: bleach in /usr/local/lib/python3.10/dist-packages (from nbconvert) (6.0.0)\n",
            "Requirement already satisfied: defusedxml in /usr/local/lib/python3.10/dist-packages (from nbconvert) (0.7.1)\n",
            "Requirement already satisfied: entrypoints>=0.2.2 in /usr/local/lib/python3.10/dist-packages (from nbconvert) (0.4)\n",
            "Requirement already satisfied: jinja2>=3.0 in /usr/local/lib/python3.10/dist-packages (from nbconvert) (3.1.2)\n",
            "Requirement already satisfied: jupyter-core>=4.7 in /usr/local/lib/python3.10/dist-packages (from nbconvert) (5.3.2)\n",
            "Requirement already satisfied: jupyterlab-pygments in /usr/local/lib/python3.10/dist-packages (from nbconvert) (0.2.2)\n",
            "Requirement already satisfied: MarkupSafe>=2.0 in /usr/local/lib/python3.10/dist-packages (from nbconvert) (2.1.3)\n",
            "Requirement already satisfied: mistune<2,>=0.8.1 in /usr/local/lib/python3.10/dist-packages (from nbconvert) (0.8.4)\n",
            "Requirement already satisfied: nbclient>=0.5.0 in /usr/local/lib/python3.10/dist-packages (from nbconvert) (0.8.0)\n",
            "Requirement already satisfied: nbformat>=5.1 in /usr/local/lib/python3.10/dist-packages (from nbconvert) (5.9.2)\n",
            "Requirement already satisfied: packaging in /usr/local/lib/python3.10/dist-packages (from nbconvert) (23.2)\n",
            "Requirement already satisfied: pandocfilters>=1.4.1 in /usr/local/lib/python3.10/dist-packages (from nbconvert) (1.5.0)\n",
            "Requirement already satisfied: pygments>=2.4.1 in /usr/local/lib/python3.10/dist-packages (from nbconvert) (2.16.1)\n",
            "Requirement already satisfied: tinycss2 in /usr/local/lib/python3.10/dist-packages (from nbconvert) (1.2.1)\n",
            "Requirement already satisfied: traitlets>=5.0 in /usr/local/lib/python3.10/dist-packages (from nbconvert) (5.7.1)\n",
            "Requirement already satisfied: platformdirs>=2.5 in /usr/local/lib/python3.10/dist-packages (from jupyter-core>=4.7->nbconvert) (3.11.0)\n",
            "Requirement already satisfied: jupyter-client>=6.1.12 in /usr/local/lib/python3.10/dist-packages (from nbclient>=0.5.0->nbconvert) (6.1.12)\n",
            "Requirement already satisfied: fastjsonschema in /usr/local/lib/python3.10/dist-packages (from nbformat>=5.1->nbconvert) (2.18.1)\n",
            "Requirement already satisfied: jsonschema>=2.6 in /usr/local/lib/python3.10/dist-packages (from nbformat>=5.1->nbconvert) (4.19.1)\n",
            "Requirement already satisfied: soupsieve>1.2 in /usr/local/lib/python3.10/dist-packages (from beautifulsoup4->nbconvert) (2.5)\n",
            "Requirement already satisfied: six>=1.9.0 in /usr/local/lib/python3.10/dist-packages (from bleach->nbconvert) (1.16.0)\n",
            "Requirement already satisfied: webencodings in /usr/local/lib/python3.10/dist-packages (from bleach->nbconvert) (0.5.1)\n",
            "Requirement already satisfied: attrs>=22.2.0 in /usr/local/lib/python3.10/dist-packages (from jsonschema>=2.6->nbformat>=5.1->nbconvert) (23.1.0)\n",
            "Requirement already satisfied: jsonschema-specifications>=2023.03.6 in /usr/local/lib/python3.10/dist-packages (from jsonschema>=2.6->nbformat>=5.1->nbconvert) (2023.7.1)\n",
            "Requirement already satisfied: referencing>=0.28.4 in /usr/local/lib/python3.10/dist-packages (from jsonschema>=2.6->nbformat>=5.1->nbconvert) (0.30.2)\n",
            "Requirement already satisfied: rpds-py>=0.7.1 in /usr/local/lib/python3.10/dist-packages (from jsonschema>=2.6->nbformat>=5.1->nbconvert) (0.10.3)\n",
            "Requirement already satisfied: pyzmq>=13 in /usr/local/lib/python3.10/dist-packages (from jupyter-client>=6.1.12->nbclient>=0.5.0->nbconvert) (23.2.1)\n",
            "Requirement already satisfied: python-dateutil>=2.1 in /usr/local/lib/python3.10/dist-packages (from jupyter-client>=6.1.12->nbclient>=0.5.0->nbconvert) (2.8.2)\n",
            "Requirement already satisfied: tornado>=4.1 in /usr/local/lib/python3.10/dist-packages (from jupyter-client>=6.1.12->nbclient>=0.5.0->nbconvert) (6.3.2)\n",
            "[NbConvertApp] Converting notebook problem3.ipynb to pdf\n",
            "[NbConvertApp] Support files will be in /content/problem3_files/\n",
            "[NbConvertApp] Making directory /content\n",
            "[NbConvertApp] Making directory /content\n",
            "[NbConvertApp] Making directory /content\n",
            "[NbConvertApp] Making directory /content\n",
            "[NbConvertApp] Making directory /content\n",
            "[NbConvertApp] Making directory /content\n",
            "[NbConvertApp] Making directory /content\n",
            "[NbConvertApp] Writing 64120 bytes to notebook.tex\n",
            "[NbConvertApp] Building PDF\n",
            "[NbConvertApp] Running xelatex 3 times: ['xelatex', 'notebook.tex', '-quiet']\n",
            "[NbConvertApp] Running bibtex 1 time: ['bibtex', 'notebook']\n",
            "[NbConvertApp] WARNING | bibtex had problems, most likely because there were no citations\n",
            "[NbConvertApp] PDF successfully created\n",
            "[NbConvertApp] Writing 171550 bytes to /content/problem3.pdf\n"
          ]
        }
      ]
    }
  ],
  "metadata": {
    "kernelspec": {
      "display_name": "Python 3",
      "language": "python",
      "name": "python3"
    },
    "language_info": {
      "codemirror_mode": {
        "name": "ipython",
        "version": 3
      },
      "file_extension": ".py",
      "mimetype": "text/x-python",
      "name": "python",
      "nbconvert_exporter": "python",
      "pygments_lexer": "ipython3",
      "version": "3.8.8"
    },
    "colab": {
      "provenance": []
    }
  },
  "nbformat": 4,
  "nbformat_minor": 0
}