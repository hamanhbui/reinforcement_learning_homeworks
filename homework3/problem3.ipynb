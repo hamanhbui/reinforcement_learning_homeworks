{
  "cells": [
    {
      "cell_type": "markdown",
      "metadata": {
        "id": "AaatfvORDF1O"
      },
      "source": [
        "<hr/>\n",
        "\n",
        "# EN.520.637 Foundations of Reinforcement Learning\n",
        "\n",
        "<hr/>"
      ]
    },
    {
      "cell_type": "markdown",
      "metadata": {
        "id": "GhCEP6h8DF1S"
      },
      "source": [
        "<h1><font color=\"darkblue\">Lab 3: Infinite Horizon MDPs (40 points)  </font></h1>\n",
        "\n",
        "\n",
        "\n",
        "## Requirements\n",
        "Make sure that the file gridworld.py is in the same directory as your notebook.\n",
        "\n",
        "\n",
        "## Deadline\n",
        "11:59 pm Oct 9th, 2023\n",
        "\n",
        "##  Content\n",
        "In this assignment we will investigate two algorithms for infinite-horizon MDPs. Namely:\n",
        "\n",
        "* Policy Evaluation & Value Iteration (GridWorld)\n",
        "* Policy Iteration (Machine-repair problem of the homework)\n"
      ]
    },
    {
      "cell_type": "code",
      "execution_count": 1,
      "metadata": {
        "id": "aMAMVQWZDF1T"
      },
      "outputs": [],
      "source": [
        "# Imports\n",
        "import numpy as np"
      ]
    },
    {
      "cell_type": "markdown",
      "metadata": {
        "id": "zn5GHQ1YDF1U"
      },
      "source": [
        "## Problem 1. Policy Evaluation & Value Iteration (20 points)\n",
        "\n"
      ]
    },
    {
      "cell_type": "markdown",
      "metadata": {
        "id": "Y8hdK7c9DF1U"
      },
      "source": [
        "### 1.1 The GridWorld\n",
        "\n",
        "\n",
        "**(Simple) Tabular Grid-World**\n",
        "\n",
        "You can visualize the grid worlds we will train our agents on, by running the cells below.\n",
        "`S` indicates the start state and `G` indicates the goal.  \n",
        "\n",
        "At every step, the agent can choose one of the four actions: \"up\",\"right\",\"down\",\"left\", moving to the next tile in that direction. If the agent chooses to move into a wall, he \"bumps\" into it and remains in the same place.\n",
        "\n",
        "Rewards are: `-5` for bumping into a wall, `+10` for reaching the goal, and `0` otherwise.  The episode ends when the agent reaches the goal, and otherwise continues.  \n"
      ]
    },
    {
      "cell_type": "code",
      "execution_count": 2,
      "metadata": {
        "id": "iJ9gdtOEDF1U",
        "outputId": "691d1b9e-ae83-42c8-9958-6fb93bb972e9",
        "colab": {
          "base_uri": "https://localhost:8080/",
          "height": 408
        }
      },
      "outputs": [
        {
          "output_type": "display_data",
          "data": {
            "text/plain": [
              "<Figure size 500x500 with 1 Axes>"
            ],
            "image/png": "[encoded data removed]"
          },
          "metadata": {}
        }
      ],
      "source": [
        "from gridworld import GridWorld\n",
        "\n",
        "gw = GridWorld()\n",
        "gw.plot_grid(plot_title='The grid')"
      ]
    },
    {
      "cell_type": "markdown",
      "metadata": {
        "id": "vlnUGGMfDF1V"
      },
      "source": [
        "### Task 1.1.1 Answer the following questions [3 Points]\n",
        "\n",
        "Under a discounted setting $\\gamma<1$:\n",
        "1. Describe what is an optimal policy for this problem\n",
        "2. Is the optimal policy unique? Justify your answer\n",
        "\n",
        "3. How do your answers change for an undiscounted setting $\\gamma=1$?"
      ]
    },
    {
      "cell_type": "markdown",
      "metadata": {
        "id": "vmvXA73KDF1W"
      },
      "source": [
        "**Your answer**\n",
        "1. We can formalize this problem as an Episodic task by Infinite Horizon $T$ with discount rate $\\gamma$. Let $S$ be the state random variable representing the grid position, then the MDP ends when $S_T=G$. By definition, the optimal policy is\n",
        "$$\\pi^*=\\arg\\max_{\\pi\\in \\Pi}\\mathbb{E}_\\pi\\left[\\sum_{k=0}^\\infty \\gamma^{k}R_{k+1}|S_0=s\\right], 0\\leq \\gamma<1.$$\n",
        "Combining with the fact that $R_{k+1}\\in \\{-5,0,10\\}$, where $R_{k+1}=-5$ if bumping into the wall, $R_{k+1}=10$ if $S_T=G$, and $R_{k+1}=0$ otherwise, this yields the optimal policy is the shortest path from $S_0=s$ to $S_T=G$ s.t. there is no bumping into the wall in this path. So, an optimal policy for this problem is\n",
        "$$\\text{(up,right,right,right,down,right,right,right)}.$$\n",
        "\n",
        "2. We can see that there is more than 1 shortest path from $S_0=s$ to $S_T=G$ s.t. there is no bumping into the wall in this path, so the optimal policy is not unique. E.g., another optimal policy for this problem can be\n",
        "$$\\text{(right,up,right,right,down,right,right,right)}.$$\n",
        "\n",
        "3. When $\\gamma=1$, this problem becomes an Episodic task by Infinite Horizon $T$ with an undiscounted rate. So, the $\\gamma$ doesn't weigh the reward at every step, hence, the length of the path doesn't matter anymore. As a result, the optimal policy is not necessarily the shortest path, it can be any path $S_0=s$ to $S_T=G$ s.t. there is no bumping into the wall in this path. E.g.,\n",
        "$$\\text{(left,up,right,right,right,right,down,right,right,right)}.$$"
      ]
    },
    {
      "cell_type": "markdown",
      "metadata": {
        "id": "W8X0WBC6DF1W"
      },
      "source": [
        "### 1.1.2 States and state values\n",
        "Excluding the wall around the grid, there are 56 tiles (INCLUDING obstacles inside the grid), and they correspond to 56 states (obstacles and goal are non-reachable states).\n",
        "\n",
        "We use numbers from 0 to 55 to represent these states (see gridworld.py for the coversion between integer and tile position). The correspondance are as shown below:"
      ]
    },
    {
      "cell_type": "code",
      "execution_count": 3,
      "metadata": {
        "id": "eoAz24pMDF1W",
        "outputId": "4a4c23cc-2aee-45e8-9935-03436b5ee49d",
        "colab": {
          "base_uri": "https://localhost:8080/",
          "height": 408
        }
      },
      "outputs": [
        {
          "output_type": "display_data",
          "data": {
            "text/plain": [
              "<Figure size 500x500 with 1 Axes>"
            ],
            "image/png": "[encoded data removed]"
          },
          "metadata": {}
        }
      ],
      "source": [
        "gw.plot_state_values(np.arange(56),value_format=\"{:d}\",plot_title='Each states as an integer')"
      ]
    },
    {
      "cell_type": "markdown",
      "metadata": {
        "id": "C2EPozV8DF1X"
      },
      "source": [
        "### 1.1.3 Taking actions\n",
        "Use `GridWorld.step(action)` to take an action, and use `GridWorld.reset()` to restart an episode.\n",
        "\n",
        "`action` is an integer from 0 to 3, denoting\n",
        "\n",
        "0: \"Up\"; 1: \"Right\"; 2: \"Down\"; 3: \"Left\"\n",
        "\n",
        "\n",
        "The method `Gridworld.step()` returns a tuple `r, done, next_s` where `r` is the stage-reward, `done` is a boolean indicating episode termination and `next_s` is the next state.\n"
      ]
    },
    {
      "cell_type": "code",
      "execution_count": 4,
      "metadata": {
        "id": "Zyn9JMFLDF1X",
        "outputId": "5c2a64ce-d915-44a7-f419-059100fa6eb9",
        "colab": {
          "base_uri": "https://localhost:8080/"
        }
      },
      "outputs": [
        {
          "output_type": "stream",
          "name": "stdout",
          "text": [
            "The current state is 9, which corresponds to tile position (1, 1)\n",
            "\n",
            "Take action 2, get reward 0.0, move to state 17\n",
            "Now the current state is 17, which corresponds to tile position (2, 1)\n",
            "\n",
            "Reset episode\n",
            "Now the current state is 9, which corresponds to tile position (1, 1)\n"
          ]
        }
      ],
      "source": [
        "# Reset the state to 'S'\n",
        "gw.reset()\n",
        "\n",
        "# Get the current state\n",
        "current_state = gw.get_current_state()\n",
        "tile_pos = gw.int_to_state(current_state)\n",
        "print(\"The current state is {}, which corresponds to tile position {}\\n\".format(current_state,tile_pos))\n",
        "\n",
        "# Take a random action\n",
        "action = np.random.randint(4)\n",
        "reward, terminated, next_state = gw.step(action)\n",
        "tile_pos = gw.int_to_state(next_state)\n",
        "print(\"Take action {}, get reward {}, move to state {}\".format(action,reward,next_state))\n",
        "print(\"Now the current state is {}, which corresponds to tile position {}\\n\".format(next_state,tile_pos))\n",
        "\n",
        "# Reset to state 'S'\n",
        "gw.reset()\n",
        "current_state = gw.get_current_state()\n",
        "tile_pos = gw.int_to_state(current_state)\n",
        "print(\"Reset episode\")\n",
        "print(\"Now the current state is {}, which corresponds to tile position {}\".format(current_state,tile_pos))\n",
        "\n"
      ]
    },
    {
      "cell_type": "markdown",
      "metadata": {
        "id": "b7TtPxkEDF1X"
      },
      "source": [
        "### 1.1.4 Plotting Deterministic Policies\n",
        "A deterministic policy is a function from state to action, which can be represented by a (56,)-numpy array whose entries are all integers in (0-3)"
      ]
    },
    {
      "cell_type": "code",
      "execution_count": 5,
      "metadata": {
        "id": "S0_gzPofDF1X",
        "outputId": "1c33e5a7-d689-46d4-d260-f219fd0e9c7b",
        "colab": {
          "base_uri": "https://localhost:8080/",
          "height": 408
        }
      },
      "outputs": [
        {
          "output_type": "display_data",
          "data": {
            "text/plain": [
              "<Figure size 500x500 with 1 Axes>"
            ],
            "image/png": "[encoded data removed]"
          },
          "metadata": {}
        }
      ],
      "source": [
        "gw.plot_policy(np.random.randint(4,size=(56,)),plot_title='A deterministic policy')"
      ]
    },
    {
      "cell_type": "markdown",
      "metadata": {
        "id": "y6a7hFmIDF1Y"
      },
      "source": [
        "### 1.2 Policy Evaluation\n",
        "\n",
        "Recall that the value function $v_\\pi(s)$ of a fixed policy $\\pi(s)$ can be iteratively computed via Policy Evaluation (See Sutton&Barto Section 4.1), the iteration is given by $$v_{k+1}(s)=\\sum_{a}\\pi(a|s)\\sum_{s',r}p(s',r|s,a)[r+\\gamma v_{k}(s)]\\,,$$ which can be written as\n",
        "$$\n",
        "    v_{k+1}(s)=\\sum_{a}\\pi(a|s)\\left[\\mathbb{E}_\\pi[r|s,a]+\\gamma\\sum_{s'}p(s'|s,a)v_k(s')\\right]\\,.\n",
        "$$\n",
        "If we write the value function $v_{k+1},v_k$ as vectors, then we have\n",
        "$$\n",
        "    v_{k+1} = \\sum_{a}\\pi(a|s)\\left[R_\\pi(a)+\\gamma P_\\pi(a)v_{k}\\right]\\,.\n",
        "$$\n",
        "where $R_\\pi(a)$ is the expected reward under action $a$ and  $P_\\pi(a)$ is the transition probability matrix under action $a$.\n",
        "\n",
        "With this we can find the value function $v_\\pi$ of random policy $\\pi$ when discount is 0.9, the code is shown below\n",
        "\n"
      ]
    },
    {
      "cell_type": "code",
      "execution_count": 6,
      "metadata": {
        "id": "XI1yOTsmDF1Y",
        "outputId": "c1f168f5-a20c-47c6-9c9b-7eb7f9734444",
        "colab": {
          "base_uri": "https://localhost:8080/",
          "height": 408
        }
      },
      "outputs": [
        {
          "output_type": "display_data",
          "data": {
            "text/plain": [
              "<Figure size 500x500 with 1 Axes>"
            ],
            "image/png": "[encoded data removed]"
          },
          "metadata": {}
        }
      ],
      "source": [
        "pi_a = [0.25,0.25,0.25,0.25] # Uniformly-random policy (takes each action with equal probability, for all states)\n",
        "\n",
        "gamma = 0.9\n",
        "max_it = 1000  # Maximum number of iterations\n",
        "tol = 1e-5  # Tolerance\n",
        "v = np.zeros((56,))\n",
        "\n",
        "for i in range(max_it):\n",
        "    value_temp = np.zeros((56,))\n",
        "    for action in range(4):\n",
        "        reward, tran_prob = gw.transition(action)\n",
        "        value_temp = value_temp + pi_a[action]*(reward+gamma* np.matmul(tran_prob,v))\n",
        "\n",
        "    if np.linalg.norm(value_temp-v)<tol:  # Termination condition\n",
        "        break\n",
        "    else:\n",
        "        v = value_temp\n",
        "\n",
        "\n",
        "gw.plot_state_values(v,value_format=\"{:.1f}\",plot_title='Value function of Random Policy')"
      ]
    },
    {
      "cell_type": "markdown",
      "metadata": {
        "id": "3kufvwCyDF1Y"
      },
      "source": [
        "### Task 1.2.1 [Coding, 7 points]\n",
        "Compute and plot the greedy policy corresponding to the value function above.\n",
        "\n",
        "Hint: First compute the Q values from `v` above."
      ]
    },
    {
      "cell_type": "code",
      "execution_count": 7,
      "metadata": {
        "id": "c3axmwUbDF1Y",
        "colab": {
          "base_uri": "https://localhost:8080/",
          "height": 408
        },
        "outputId": "f185bd11-7e18-4568-e213-a7df716da9f2"
      },
      "outputs": [
        {
          "output_type": "display_data",
          "data": {
            "text/plain": [
              "<Figure size 500x500 with 1 Axes>"
            ],
            "image/png": "[encoded data removed]"
          },
          "metadata": {}
        }
      ],
      "source": [
        "# Answer: Your code here\n",
        "def convert_state2int(row, col):\n",
        "  idx = row * 8 + col\n",
        "  return idx\n",
        "\n",
        "def get_policy_from_v(v_value):\n",
        "  ignore_position = [5, 11, 19, 20, 27, 28]\n",
        "  q_values = np.zeros((56,), dtype=int)\n",
        "\n",
        "  for i in range(56):\n",
        "    tile_pos = gw.int_to_state(i)\n",
        "    opt_pos = -1\n",
        "    max_v = -np.inf\n",
        "    ##Up\n",
        "    if tile_pos[0] - 1 >= 0:\n",
        "      int_pos = convert_state2int(tile_pos[0] - 1, tile_pos[1])\n",
        "      if int_pos == 15:\n",
        "        q_values[i] = 0\n",
        "        continue\n",
        "      elif int_pos not in ignore_position and max_v <= v_value[int_pos]:\n",
        "        max_v = v_value[int_pos]\n",
        "        opt_pos = 0\n",
        "    ##Right\n",
        "    if tile_pos[1] + 1 <= 7:\n",
        "      int_pos = convert_state2int(tile_pos[0], tile_pos[1] + 1)\n",
        "      if int_pos == 15:\n",
        "        q_values[i] = 1\n",
        "        continue\n",
        "      elif int_pos not in ignore_position and max_v <= v_value[int_pos]:\n",
        "        max_v = v_value[int_pos]\n",
        "        opt_pos = 1\n",
        "    ##Down\n",
        "    if tile_pos[0] + 1 <= 6:\n",
        "      int_pos = convert_state2int(tile_pos[0] + 1, tile_pos[1])\n",
        "      if int_pos == 15:\n",
        "        q_values[i] = 2\n",
        "        continue\n",
        "      elif int_pos not in ignore_position and max_v <= v_value[int_pos]:\n",
        "        max_v = v_value[int_pos]\n",
        "        opt_pos = 2\n",
        "    ##Left\n",
        "    if tile_pos[1] - 1 >= 0:\n",
        "      int_pos = convert_state2int(tile_pos[0], tile_pos[1] - 1)\n",
        "      if int_pos == 15:\n",
        "        q_values[i] = 3\n",
        "        continue\n",
        "      elif int_pos not in ignore_position and max_v <= v_value[int_pos]:\n",
        "        max_v = v_value[int_pos]\n",
        "        opt_pos = 3\n",
        "    q_values[i] = opt_pos\n",
        "\n",
        "  return q_values\n",
        "\n",
        "gw.plot_policy(get_policy_from_v(v),plot_title='The greedy policy')\n"
      ]
    },
    {
      "cell_type": "markdown",
      "metadata": {
        "id": "nwaQe3fHDF1Y"
      },
      "source": [
        "## 1.3 Value Iteration\n",
        "\n"
      ]
    },
    {
      "cell_type": "markdown",
      "metadata": {
        "id": "y-I2DSNGDF1Y"
      },
      "source": [
        "### Task 1.3.1 [Coding, 10 points]\n",
        "\n",
        "Implement Value Iteration Algorithm [Sutton&Barto Section 4.4] to find the optimal policy of this gridworld, and plot its value function.\n",
        "\n"
      ]
    },
    {
      "cell_type": "code",
      "execution_count": 8,
      "metadata": {
        "id": "bdiv0-A4DF1Z"
      },
      "outputs": [],
      "source": [
        "from numpy.core.fromnumeric import var\n",
        "# Value Iteration Algorithm\n",
        "\n",
        "def value_iteration(gridworld, gamma):\n",
        "  # input:  gridworld, (GridWorld class) gridworld class describing the environment\n",
        "  #         gamma,     (float 0-1) discount of the return\n",
        "  # output: optim value,  (1d numpy array, float) optimal value function\n",
        "  #         optim_policy, (1d numpy array, int {0,1,2,3}) optimal policy\n",
        "\n",
        "  #write your code here\n",
        "  max_it = 1000  # Maximum number of iterations\n",
        "  tol = 1e-5  # Tolerance\n",
        "  v = np.zeros((56,))\n",
        "  ignore_position = [5, 11, 19, 20, 27, 28]\n",
        "  for i in range(max_it):\n",
        "    delta = 0\n",
        "    for j in range(56):\n",
        "      if j in ignore_position or j == 15:\n",
        "        continue\n",
        "      value_tmp = v[j]\n",
        "      max_tmp = -np.Inf\n",
        "      tile_pos = gw.int_to_state(j)\n",
        "      ##Up\n",
        "      if tile_pos[0] - 1 >= 0:\n",
        "        int_pos = convert_state2int(tile_pos[0] - 1, tile_pos[1])\n",
        "        if int_pos == 15:\n",
        "          v[j] = 10\n",
        "          continue\n",
        "        elif int_pos in ignore_position and max_tmp <= -5:\n",
        "          max_tmp = -5\n",
        "        elif int_pos not in ignore_position and max_tmp <= gamma*v[int_pos]:\n",
        "          max_tmp = gamma*v[int_pos]\n",
        "      else:\n",
        "        if max_tmp <= -5:\n",
        "          max_tmp = -5\n",
        "      ##Right\n",
        "      if tile_pos[1] + 1 <= 7:\n",
        "        int_pos = convert_state2int(tile_pos[0], tile_pos[1] + 1)\n",
        "        if int_pos == 15:\n",
        "          v[j] = 10\n",
        "          continue\n",
        "        elif int_pos in ignore_position and max_tmp <= -5:\n",
        "          max_tmp = -5\n",
        "        elif int_pos not in ignore_position and max_tmp <= gamma*v[int_pos]:\n",
        "          max_tmp = gamma*v[int_pos]\n",
        "      else:\n",
        "        if max_tmp <= -5:\n",
        "          max_tmp = -5\n",
        "      ##Down\n",
        "      if tile_pos[0] + 1 <= 6:\n",
        "        int_pos = convert_state2int(tile_pos[0] + 1, tile_pos[1])\n",
        "        if int_pos == 15:\n",
        "          v[j] = 10\n",
        "          continue\n",
        "        elif int_pos in ignore_position and max_tmp <= -5:\n",
        "          max_tmp = -5\n",
        "        elif int_pos not in ignore_position and max_tmp <= gamma*v[int_pos]:\n",
        "          max_tmp = gamma*v[int_pos]\n",
        "      else:\n",
        "        if max_tmp <= -5:\n",
        "          max_tmp = -5\n",
        "      ##Left\n",
        "      if tile_pos[1] - 1 >= 0:\n",
        "        int_pos = convert_state2int(tile_pos[0], tile_pos[1] - 1)\n",
        "        if int_pos == 15:\n",
        "          v[j] = 10\n",
        "          continue\n",
        "        elif int_pos in ignore_position and max_tmp <= -5:\n",
        "          max_tmp = -5\n",
        "        elif int_pos not in ignore_position and max_tmp <= gamma*v[int_pos]:\n",
        "          max_tmp = gamma*v[int_pos]\n",
        "      else:\n",
        "        if max_tmp <= -5:\n",
        "          max_tmp = -5\n",
        "\n",
        "      #Update by the max value regarding all possible actions at this state\n",
        "      v[j] = max_tmp\n",
        "      delta = max(delta, np.absolute(value_tmp - v[j]))\n",
        "\n",
        "    if delta < tol:\n",
        "      break\n",
        "\n",
        "  optim_value = v\n",
        "  optim_policy = get_policy_from_v(optim_value)\n",
        "\n",
        "  return optim_value, optim_policy"
      ]
    },
    {
      "cell_type": "code",
      "execution_count": 9,
      "metadata": {
        "id": "k32m3ID8DF1Z",
        "outputId": "26598de5-2b49-49e1-8817-4c1050fc3f21",
        "colab": {
          "base_uri": "https://localhost:8080/",
          "height": 799
        }
      },
      "outputs": [
        {
          "output_type": "display_data",
          "data": {
            "text/plain": [
              "<Figure size 500x500 with 1 Axes>"
            ],
            "image/png": "[encoded data removed]"
          },
          "metadata": {}
        },
        {
          "output_type": "display_data",
          "data": {
            "text/plain": [
              "<Figure size 500x500 with 1 Axes>"
            ],
            "image/png": "[encoded data removed]"
          },
          "metadata": {}
        }
      ],
      "source": [
        "# check your result here\n",
        "optim_value, optim_policy = value_iteration(gw, 0.9)\n",
        "gw.plot_state_values(optim_value,value_format=\"{:.1f}\",plot_title='Value function of Value Iteration')\n",
        "gw.plot_policy(optim_policy,plot_title='Greedy Policy of Value Iteration')"
      ]
    },
    {
      "cell_type": "markdown",
      "metadata": {
        "id": "s718_rfwDF1Z"
      },
      "source": [
        "## Problem 2. Policy Iteration (HW2: P3) [20 points]\n",
        "\n",
        "#### Suppose we have a machine that is either running or is broken down.  If it runs through-out one week, it makes a gross profit of \\\\$120. If it fails during the week, gross profit is zero. If it is running at the start of the week and we perform preventive maintenance,the probability that it will fail during the week is 0.4.  If we do not perform such maintenance, the probability of failure is 0.7. However, maintenance will cost \\\\$20.  When the machine is broken down at the start of the week (it failed during the week before),it may either be repaired at a cost of \\\\$60, in which case it will fail during the week with a probability of 0.4, or it may be replaced at a cost of \\\\$120 by a new machinethat is guaranteed to run through its first week of operation."
      ]
    },
    {
      "cell_type": "markdown",
      "metadata": {
        "id": "8dqwjR_YDF1Z"
      },
      "source": [
        "### Task 2.1 [Coding, 15 points]\n",
        "\n",
        "Implement Policy Iteration Algorithm [Sutton&Barto Section 4.3] to find the optimal policy of this problem respectively for $\\gamma = 0.9$ and $\\gamma = 0.4$"
      ]
    },
    {
      "cell_type": "code",
      "execution_count": 10,
      "metadata": {
        "id": "CixO0410DF1a"
      },
      "outputs": [],
      "source": [
        "# Write auxiliary functions here\n",
        "def policy_eval(v, policy, gamma, max_it, tol):\n",
        "  for i in range(max_it):\n",
        "    delta = 0\n",
        "\n",
        "    value_tmp = v[0]\n",
        "    if policy[0] == 0:\n",
        "      v[0] = 0.4 * (-60 + gamma * v[0]) + 0.6 * (60 + gamma * v[1])\n",
        "    else:\n",
        "      v[0] = 1 * (gamma * v[1])\n",
        "    delta = max(delta, np.absolute(value_tmp-v[0]))\n",
        "\n",
        "    value_tmp = v[1]\n",
        "    if policy[1] == 0:\n",
        "      v[1] = 0.4 * (-20 + gamma * v[0]) + 0.6 * (100 + gamma * v[1])\n",
        "    else:\n",
        "      v[1] = 0.7 * (0 + gamma * v[0]) + 0.3 * (120 + gamma * v[1])\n",
        "    delta = max(delta, np.absolute(value_tmp-v[1]))\n",
        "\n",
        "    if delta < tol:\n",
        "      break\n",
        "\n",
        "  return v\n",
        "\n",
        "def convert_int2string_policy(policy_int):\n",
        "  policy_str = [\"\", \"\"]\n",
        "  if policy_int[0] == 0:\n",
        "    policy_str[0] = \"Repair\"\n",
        "  else:\n",
        "    policy_str[0] = \"Replace\"\n",
        "  if policy_int[1] == 0:\n",
        "    policy_str[1] = \"Maintenance\"\n",
        "  else:\n",
        "    policy_str[1] = \"Not maintenance\"\n",
        "  return policy_str"
      ]
    },
    {
      "cell_type": "code",
      "execution_count": 11,
      "metadata": {
        "id": "X1O8cLPiDF1a"
      },
      "outputs": [],
      "source": [
        "def policy_iter(gamma,max_it,tol):\n",
        "  # input:  gamma,     (float) discount of the return\n",
        "  #         max_it     (int) maximum number of iterations\n",
        "  #         tol        (float) tolerance to be checked\n",
        "  # output:\n",
        "  #         optim_policy, (1d numpy array, int {0,1}) optimal policy\n",
        "\n",
        "  #0: broken, 1: working\n",
        "  policy = np.random.choice([0, 1], size=(2,), p=[0.5, 0.5])\n",
        "  v = np.array([0, 0])\n",
        "  v = policy_eval(v, policy, gamma, max_it, tol)\n",
        "  while True:\n",
        "    policy_stable = True\n",
        "\n",
        "    old_action = policy[0]\n",
        "    #0: repair, 1: replace\n",
        "    tmp_policy = 0\n",
        "    tmp_repair = 0.4 * (-60 + gamma * v[0]) + 0.6 * (60 + gamma * v[1])\n",
        "    tmp_replace = 1 * (gamma * v[1])\n",
        "    if tmp_replace > tmp_repair:\n",
        "      tmp_policy = 1\n",
        "    policy[0] = tmp_policy\n",
        "    if old_action != policy[0]:\n",
        "      policy_stable = False\n",
        "\n",
        "    old_action = policy[1]\n",
        "    #0: maintenance, 1: not maintenance\n",
        "    tmp_policy = 0\n",
        "    tmp_mtn = 0.4 * (-20 + gamma * v[0]) + 0.6 * (100 + gamma * v[1])\n",
        "    tmp_not = 0.7 * (0 + gamma * v[0]) + 0.3 * (120 + gamma * v[1])\n",
        "    if tmp_not > tmp_mtn:\n",
        "      tmp_policy = 1\n",
        "    policy[1] = tmp_policy\n",
        "    if old_action != policy[1]:\n",
        "      policy_stable = False\n",
        "\n",
        "    if policy_stable == True:\n",
        "      break\n",
        "    else:\n",
        "      v = policy_eval(v, policy, gamma, max_it, tol)\n",
        "\n",
        "  return policy"
      ]
    },
    {
      "cell_type": "markdown",
      "metadata": {
        "id": "zcRjMbKWDF1a"
      },
      "source": [
        "### Task 2.2 [Coding, 5 points]\n",
        "\n",
        "Run your policy iteration algorithm and:\n",
        "1. Print the optimal policy for this problem for $\\gamma = 0.9$\n",
        "2. Print the optimal policy for this problem for $\\gamma = 0.4$"
      ]
    },
    {
      "cell_type": "code",
      "source": [
        "optimal_policy_int = policy_iter(0.9, 1000, 1e-5)\n",
        "optimal_policy_str = convert_int2string_policy(optimal_policy_int)\n",
        "print(\"For $\\gamma=0.9$, the optimal policy when the machine is broken is: \" + optimal_policy_str[0])\n",
        "print(\"For $\\gamma=0.9$, the optimal policy when the machine is working is: \" + optimal_policy_str[1])"
      ],
      "metadata": {
        "colab": {
          "base_uri": "https://localhost:8080/"
        },
        "id": "KYN2_Y7quNfN",
        "outputId": "55be0b25-ba0c-422f-fcea-e79c640f3441"
      },
      "execution_count": 12,
      "outputs": [
        {
          "output_type": "stream",
          "name": "stdout",
          "text": [
            "For $\\gamma=0.9$, the optimal policy when the machine is broken is: Replace\n",
            "For $\\gamma=0.9$, the optimal policy when the machine is working is: Maintenance\n"
          ]
        }
      ]
    },
    {
      "cell_type": "code",
      "source": [
        "optimal_policy_int = policy_iter(0.4, 1000, 1e-5)\n",
        "optimal_policy_str = convert_int2string_policy(optimal_policy_int)\n",
        "print(\"For $\\gamma=0.4$, the optimal policy when the machine is broken is: \" + optimal_policy_str[0])\n",
        "print(\"For $\\gamma=0.4$, the optimal policy when the machine is working is: \" + optimal_policy_str[1])"
      ],
      "metadata": {
        "colab": {
          "base_uri": "https://localhost:8080/"
        },
        "id": "TV2KToTcB0UQ",
        "outputId": "62b597c0-988d-4563-df35-f9177d3318c8"
      },
      "execution_count": 13,
      "outputs": [
        {
          "output_type": "stream",
          "name": "stdout",
          "text": [
            "For $\\gamma=0.4$, the optimal policy when the machine is broken is: Repair\n",
            "For $\\gamma=0.4$, the optimal policy when the machine is working is: Maintenance\n"
          ]
        }
      ]
    },
    {
      "cell_type": "code",
      "source": [
        "!apt-get install texlive-xetex\n",
        "!pip install nbconvert\n",
        "!jupyter nbconvert --to pdf --output /content/problem3.pdf problem3.ipynb"
      ],
      "metadata": {
        "id": "DYd-RRkjdkIT"
      },
      "execution_count": null,
      "outputs": []
    }
  ],
  "metadata": {
    "kernelspec": {
      "display_name": "Python 3",
      "language": "python",
      "name": "python3"
    },
    "language_info": {
      "codemirror_mode": {
        "name": "ipython",
        "version": 3
      },
      "file_extension": ".py",
      "mimetype": "text/x-python",
      "name": "python",
      "nbconvert_exporter": "python",
      "pygments_lexer": "ipython3",
      "version": "3.8.8"
    },
    "colab": {
      "provenance": []
    }
  },
  "nbformat": 4,
  "nbformat_minor": 0
}